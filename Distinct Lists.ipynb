{
 "cells": [
  {
   "cell_type": "code",
   "execution_count": 1,
   "metadata": {},
   "outputs": [
    {
     "name": "stdout",
     "output_type": "stream",
     "text": [
      "Do you want to enter a new product? Y/N: y\n",
      "Enter a Product Name, Weight and Price: ball 5 2\n",
      "Do you want to enter a new product? Y/N: y\n",
      "Enter a Product Name, Weight and Price: box 10 5\n",
      "Do you want to enter a new product? Y/N: y\n",
      "Enter a Product Name, Weight and Price: ball 10 3.5\n",
      "Do you want to enter a new product? Y/N: y\n",
      "Enter a Product Name, Weight and Price: ball 5 2\n",
      "Do you want to enter a new product? Y/N: n\n",
      "Your product list is: \n",
      "ball 5 2\n",
      "box 10 5\n",
      "ball 10 3.5\n",
      "ball 5 2\n",
      "There are 3 distinct products: {'ball 10 3.5', 'ball 5 2', 'box 10 5'}\n"
     ]
    }
   ],
   "source": [
    "product_list = []\n",
    "userQuestion = input('Do you want to enter a new product? Y/N: ').lower()\n",
    "while (userQuestion == 'y'):\n",
    "    product = input('Enter a Product Name, Weight and Price: ')\n",
    "    product_list.append(product)\n",
    "    userQuestion = input('Do you want to enter a new product? Y/N: ').lower()\n",
    "print('Your product list is: ')\n",
    "for i in product_list: \n",
    "    print (i)\n",
    "print('There are', len(set(product_list)), 'distinct products:', set(product_list))"
   ]
  },
  {
   "cell_type": "code",
   "execution_count": null,
   "metadata": {},
   "outputs": [],
   "source": []
  }
 ],
 "metadata": {
  "kernelspec": {
   "display_name": "Python 3",
   "language": "python",
   "name": "python3"
  },
  "language_info": {
   "codemirror_mode": {
    "name": "ipython",
    "version": 3
   },
   "file_extension": ".py",
   "mimetype": "text/x-python",
   "name": "python",
   "nbconvert_exporter": "python",
   "pygments_lexer": "ipython3",
   "version": "3.7.4"
  }
 },
 "nbformat": 4,
 "nbformat_minor": 2
}
